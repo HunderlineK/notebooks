{
  "nbformat": 4,
  "nbformat_minor": 0,
  "metadata": {
    "kernelspec": {
      "display_name": "Python 3",
      "language": "python",
      "name": "python3"
    },
    "language_info": {
      "codemirror_mode": {
        "name": "ipython",
        "version": 3
      },
      "file_extension": ".py",
      "mimetype": "text/x-python",
      "name": "python",
      "nbconvert_exporter": "python",
      "pygments_lexer": "ipython3",
      "version": "3.7.1"
    },
    "colab": {
      "name": "Model Subclassing.ipynb",
      "provenance": [],
      "collapsed_sections": [
        "3x_9PFkQ8RKn",
        "WO5rMwZg8RKo",
        "X2IaVjoy8RKo",
        "M11vU0E08RKo"
      ],
      "include_colab_link": true
    },
    "accelerator": "GPU"
  },
  "cells": [
    {
      "cell_type": "markdown",
      "metadata": {
        "id": "view-in-github",
        "colab_type": "text"
      },
      "source": [
        "<a href=\"https://colab.research.google.com/github/HunderlineK/notebooks/blob/main/Model_Subclassing.ipynb\" target=\"_parent\"><img src=\"https://colab.research.google.com/assets/colab-badge.svg\" alt=\"Open In Colab\"/></a>"
      ]
    },
    {
      "cell_type": "code",
      "metadata": {
        "id": "qqKOYKiu8RKa",
        "colab": {
          "base_uri": "https://localhost:8080/"
        },
        "outputId": "66c96b49-8b82-47c7-8281-dedcaedb570b"
      },
      "source": [
        "import tensorflow as tf\n",
        "print(tf.__version__)"
      ],
      "execution_count": null,
      "outputs": [
        {
          "output_type": "stream",
          "text": [
            "2.6.0\n"
          ],
          "name": "stdout"
        }
      ]
    },
    {
      "cell_type": "markdown",
      "metadata": {
        "id": "uoDjO1zx8RKc"
      },
      "source": [
        "# Model subclassing and custom training loops"
      ]
    },
    {
      "cell_type": "markdown",
      "metadata": {
        "id": "0oSh_EkQ8RKc"
      },
      "source": [
        " ## Coding tutorials\n",
        " #### [1. Model subclassing](#coding_tutorial_1)\n",
        " #### [2. Custom layers](#coding_tutorial_2)\n",
        " #### [3. Automatic differentiation](#coding_tutorial_3)\n",
        " #### [4. Custom training loops](#coding_tutorial_4)\n",
        " #### [5. tf.function decorator](#coding_tutorial_5)"
      ]
    },
    {
      "cell_type": "markdown",
      "metadata": {
        "id": "0Q99pyds8RKd"
      },
      "source": [
        "***\n",
        "<a id=\"coding_tutorial_1\"></a>\n",
        "## Model subclassing"
      ]
    },
    {
      "cell_type": "code",
      "metadata": {
        "id": "MPRGd8Ui8RKd"
      },
      "source": [
        "from tensorflow.keras.models import Model\n",
        "from tensorflow.keras.layers import Dense, Dropout, Softmax, concatenate"
      ],
      "execution_count": null,
      "outputs": []
    },
    {
      "cell_type": "markdown",
      "metadata": {
        "id": "q6ZjSi-x8RKd"
      },
      "source": [
        "#### Create a simple model using the model subclassing API"
      ]
    },
    {
      "cell_type": "code",
      "metadata": {
        "id": "peeDGtZT8RKd"
      },
      "source": [
        "# Build the model\n",
        "\n",
        "class MyModel(Model):\n",
        "    def __init__(self, units):\n",
        "        super(MyModel, self).__init__()\n",
        "        self.dense = tf.keras.layers.Dense(units)\n",
        "    def call(self, inputs, training=False):\n",
        "        return self.dense(inputs)"
      ],
      "execution_count": null,
      "outputs": []
    },
    {
      "cell_type": "code",
      "metadata": {
        "id": "gobxkF6F8RKe",
        "colab": {
          "base_uri": "https://localhost:8080/"
        },
        "outputId": "f42f5032-57c4-4e6a-b46b-539c08a8eb6b"
      },
      "source": [
        "# Print the model summary\n",
        "\n",
        "model = MyModel(1)\n",
        "model.build((None, 1))\n",
        "model.summary()"
      ],
      "execution_count": null,
      "outputs": [
        {
          "output_type": "stream",
          "text": [
            "Model: \"my_model_7\"\n",
            "_________________________________________________________________\n",
            "Layer (type)                 Output Shape              Param #   \n",
            "=================================================================\n",
            "dense_1 (Dense)              multiple                  2         \n",
            "=================================================================\n",
            "Total params: 2\n",
            "Trainable params: 2\n",
            "Non-trainable params: 0\n",
            "_________________________________________________________________\n"
          ],
          "name": "stdout"
        }
      ]
    },
    {
      "cell_type": "markdown",
      "metadata": {
        "id": "hz6CWrXM8RKe"
      },
      "source": [
        "***\n",
        "<a id=\"coding_tutorial_2\"></a>\n",
        "## Custom layers"
      ]
    },
    {
      "cell_type": "code",
      "metadata": {
        "id": "Bn04PMwo8RKe"
      },
      "source": [
        "from tensorflow.keras.models import Model\n",
        "from tensorflow.keras.layers import Layer, Softmax"
      ],
      "execution_count": null,
      "outputs": []
    },
    {
      "cell_type": "markdown",
      "metadata": {
        "id": "uY1JuRXA8RKf"
      },
      "source": [
        "#### Create custom layers"
      ]
    },
    {
      "cell_type": "code",
      "metadata": {
        "id": "Nj3Sn8Kz8RKf",
        "colab": {
          "base_uri": "https://localhost:8080/"
        },
        "outputId": "bc69a2b7-a469-4f44-efb1-292a4c656008"
      },
      "source": [
        "# Create a custom layer\n",
        "\n",
        "class SimpleDense(Layer):\n",
        "  def __init__(self, input_dim, units):\n",
        "    super(SimpleDense, self).__init__()\n",
        "    self.units = units\n",
        "    self.w = self.add_weight(shape=(input_dim, units), initializer=tf.random_normal_initializer())\n",
        "    self.b = self.add_weight(shape=(units), initializer=tf.zeros_initializer())\n",
        "  def call(self, inputs):\n",
        "    return tf.matmul(inputs, self.w) + self.b\n",
        "\n",
        "simple_dense = SimpleDense(3, 1)\n",
        "x = [tf.constant((4, 3, 2), dtype=\"float32\")]\n",
        "print(simple_dense(x))\n",
        "print(simple_dense.trainable_weights)"
      ],
      "execution_count": null,
      "outputs": [
        {
          "output_type": "stream",
          "text": [
            "tf.Tensor([[-0.47028118]], shape=(1, 1), dtype=float32)\n",
            "[<tf.Variable 'Variable:0' shape=(3, 1) dtype=float32, numpy=\n",
            "array([[-0.10946687],\n",
            "       [-0.0304388 ],\n",
            "       [ 0.02945134]], dtype=float32)>, <tf.Variable 'Variable:0' shape=(1,) dtype=float32, numpy=array([0.], dtype=float32)>]\n"
          ],
          "name": "stdout"
        }
      ]
    },
    {
      "cell_type": "code",
      "metadata": {
        "id": "vNtonvt88RKf"
      },
      "source": [
        "# Specify trainable weights\n",
        "\n",
        "\n",
        "class SimpleDense(Layer):\n",
        "  def __init__(self, input_dim, units):\n",
        "    super(SimpleDense, self).__init__()\n",
        "    self.units = units\n",
        "    self.w = self.add_weight(shape=(input_dim, units), initializer=tf.random_normal_initializer())\n",
        "    self.b = self.add_weight(shape=(units), initializer=tf.zeros_initializer(), trainable=False)\n",
        "  def call(self, inputs):\n",
        "    return tf.matmul(inputs, self.w) + self.b\n",
        "\n",
        "simple_dense = SimpleDense(3, 1)\n",
        "x = [tf.constant((4, 3, 2), dtype=\"float32\")]"
      ],
      "execution_count": null,
      "outputs": []
    },
    {
      "cell_type": "code",
      "metadata": {
        "id": "WfYrDisL8RKf",
        "colab": {
          "base_uri": "https://localhost:8080/"
        },
        "outputId": "06ae3058-325d-4a95-da3f-d0d9dbf7af55"
      },
      "source": [
        "print('trainable weights:', simple_dense.trainable_weights)\n",
        "print('non-trainable weights:', simple_dense.non_trainable_weights)"
      ],
      "execution_count": null,
      "outputs": [
        {
          "output_type": "stream",
          "text": [
            "trainable weights: [<tf.Variable 'Variable:0' shape=(3, 1) dtype=float32, numpy=\n",
            "array([[0.05632761],\n",
            "       [0.0780715 ],\n",
            "       [0.04850844]], dtype=float32)>]\n",
            "non-trainable weights: [<tf.Variable 'Variable:0' shape=(1,) dtype=float32, numpy=array([0.], dtype=float32)>]\n"
          ],
          "name": "stdout"
        }
      ]
    },
    {
      "cell_type": "code",
      "metadata": {
        "id": "soDjsr-R8RKf"
      },
      "source": [
        "# Create a custom layer to accumulate means of output values\n",
        "\n",
        "class ActivationsMean(Layer):\n",
        "  def __init__(self, units, input_dim):\n",
        "    super(ActivationsMean, self).__init__()\n",
        "    self.units = units\n",
        "    self.w = self.add_weight(shape=(input_dim, units), initializer=tf.random_normal_initializer())\n",
        "    self.b = self.add_weight(shape=(units), initializer=tf.zeros_initializer())\n",
        "    self.num_calls = tf.Variable(0)\n",
        "    self.activations_sum = tf.Variable(tf.zeros(units))\n",
        "  def call(self, inputs):\n",
        "    activations = tf.matmul(inputs, self.w) + self.b\n",
        "    self.num_calls.assign_add(inputs.shape[0])\n",
        "    self.activations_sum.assign_add(tf.reduce_sum(activations, axis=0))\n",
        "    return activations, self.activations_sum / tf.cast(self.num_calls, dtype=\"float32\")\n",
        "  \n",
        "activations_mean = ActivationsMean(units=3, input_dim=5)"
      ],
      "execution_count": null,
      "outputs": []
    },
    {
      "cell_type": "code",
      "metadata": {
        "id": "o9-WaMkh8RKg",
        "colab": {
          "base_uri": "https://localhost:8080/"
        },
        "outputId": "228c29d3-8db9-4f3e-a930-2794136b290b"
      },
      "source": [
        "# Test the layer\n",
        "\n",
        "y, activation_means = activations_mean(tf.ones((1, 5)))\n",
        "print(activation_means.numpy())"
      ],
      "execution_count": null,
      "outputs": [
        {
          "output_type": "stream",
          "text": [
            "[-0.09037036 -0.2020526   0.16883661]\n"
          ],
          "name": "stdout"
        }
      ]
    },
    {
      "cell_type": "code",
      "metadata": {
        "id": "lS_cDzzG8RKg"
      },
      "source": [
        "# Create a Dropout layer as a custom layer\n",
        "\n",
        "class MyDropout(Layer):\n",
        "\n",
        "    def __init__(self, rate):\n",
        "        super(MyDropout, self).__init__()\n",
        "        self.rate = rate\n",
        "        \n",
        "    def call(self, inputs):\n",
        "        # Define forward pass for dropout layer\n",
        "        return tf.nn.dropout(inputs, rate=self.rate)"
      ],
      "execution_count": null,
      "outputs": []
    },
    {
      "cell_type": "markdown",
      "metadata": {
        "id": "fJJPc5fi8RKg"
      },
      "source": [
        "#### Implement the custom layers into a model"
      ]
    },
    {
      "cell_type": "code",
      "metadata": {
        "id": "XLV6KZDG8RKg"
      },
      "source": [
        "# Build the model using custom layers with the model subclassing API\n",
        "\n",
        "class MyModel(Model):\n",
        "    def __init__(self, units_1, input_dim_1, units_2, units_3):\n",
        "        super(MyModel, self).__init__()\n",
        "        # Define layers\n",
        "        self.dense_1 = SimpleDense(input_dim_1, units_1)\n",
        "        self.dropout_1 = MyDropout(0.7)\n",
        "        self.dense_2 = SimpleDense(units_1, units_2)\n",
        "        self.dropout_2 = MyDropout(0.7)\n",
        "        self.dense_3 = SimpleDense(units_2, units_3)\n",
        "           \n",
        "    def call(self, inputs):\n",
        "        # Define forward pass\n",
        "        h = self.dense_1(inputs)\n",
        "        h = self.dropout_1(h)\n",
        "        h = self.dense_2(h)\n",
        "        h = self.dropout_2(h)\n",
        "        return self.dense_3(h)"
      ],
      "execution_count": null,
      "outputs": []
    },
    {
      "cell_type": "code",
      "metadata": {
        "id": "EzL8hr6C8RKg",
        "colab": {
          "base_uri": "https://localhost:8080/"
        },
        "outputId": "35064351-c7d0-4a6d-ea39-50ae89cb18ef"
      },
      "source": [
        "# Instantiate a model object\n",
        "\n",
        "model = MyModel(64,10000,64,46)\n",
        "print(model(tf.ones((1, 10000))))\n",
        "model.summary()"
      ],
      "execution_count": null,
      "outputs": [
        {
          "output_type": "stream",
          "text": [
            "tf.Tensor(\n",
            "[[ 1.1130168  -1.9405086  -0.9035058   4.8536034  -0.19616146 -0.19793004\n",
            "  -0.4119551  -2.231533    0.21389516  1.5264114  -0.06521636  2.8056967\n",
            "   2.1658113   0.08040199  0.8826734  -1.6868404  -0.7327321   1.4152582\n",
            "  -3.535544    0.17693329 -2.971482   -1.9056319  -2.935541   -0.13452011\n",
            "  -0.00566787 -2.4229639  -4.081917    2.0636582   2.8587728  -1.7552518\n",
            "  -1.8000066   0.6231221  -3.164719   -1.6298279   0.29169396  1.183894\n",
            "   0.17411514 -3.159477   -0.20334071  3.343568    1.4505521   2.4944737\n",
            "   0.36954775 -2.3430796   3.0455208   1.8699613 ]], shape=(1, 46), dtype=float32)\n",
            "Model: \"my_model_8\"\n",
            "_________________________________________________________________\n",
            "Layer (type)                 Output Shape              Param #   \n",
            "=================================================================\n",
            "simple_dense_22 (SimpleDense multiple                  640064    \n",
            "_________________________________________________________________\n",
            "my_dropout_12 (MyDropout)    multiple                  0         \n",
            "_________________________________________________________________\n",
            "simple_dense_23 (SimpleDense multiple                  4160      \n",
            "_________________________________________________________________\n",
            "my_dropout_13 (MyDropout)    multiple                  0         \n",
            "_________________________________________________________________\n",
            "simple_dense_24 (SimpleDense multiple                  2990      \n",
            "=================================================================\n",
            "Total params: 647,214\n",
            "Trainable params: 647,040\n",
            "Non-trainable params: 174\n",
            "_________________________________________________________________\n"
          ],
          "name": "stdout"
        }
      ]
    },
    {
      "cell_type": "markdown",
      "metadata": {
        "id": "o1NojPLy8RKg"
      },
      "source": [
        "***\n",
        "<a id=\"coding_tutorial_3\"></a>\n",
        "## Automatic differentiation"
      ]
    },
    {
      "cell_type": "code",
      "metadata": {
        "id": "oi69P8v18RKh"
      },
      "source": [
        "import numpy as np\n",
        "import matplotlib.pyplot as plt"
      ],
      "execution_count": null,
      "outputs": []
    },
    {
      "cell_type": "markdown",
      "metadata": {
        "id": "YHotQf-r8RKh"
      },
      "source": [
        "#### Create synthetic data"
      ]
    },
    {
      "cell_type": "code",
      "metadata": {
        "id": "GT1aMp838RKh",
        "colab": {
          "base_uri": "https://localhost:8080/",
          "height": 282
        },
        "outputId": "9f9655f1-4aa8-4468-a41a-8e55fa3eb21b"
      },
      "source": [
        "# Create data from a noise contaminated linear model\n",
        "\n",
        "def MakeNoisyData(m, b, n=20):\n",
        "    x = tf.random.uniform(shape=(n,))\n",
        "    noise = tf.random.normal(shape=(len(x),), stddev=0.1)\n",
        "    y = m * x + b + noise\n",
        "    return x, y\n",
        "\n",
        "w=1\n",
        "m=0.75\n",
        "b=2\n",
        "x_train, y_train = MakeNoisyData(m,b)\n",
        "plt.plot(x_train, y_train, 'b.')"
      ],
      "execution_count": null,
      "outputs": [
        {
          "output_type": "execute_result",
          "data": {
            "text/plain": [
              "[<matplotlib.lines.Line2D at 0x7f17d97bae50>]"
            ]
          },
          "metadata": {},
          "execution_count": 81
        },
        {
          "output_type": "display_data",
          "data": {
            "image/png": "[encoded data removed]",
            "text/plain": [
              "<Figure size 432x288 with 1 Axes>"
            ]
          },
          "metadata": {
            "needs_background": "light"
          }
        }
      ]
    },
    {
      "cell_type": "markdown",
      "metadata": {
        "id": "HVc3RMjx8RKh"
      },
      "source": [
        "#### Define a linear regression model"
      ]
    },
    {
      "cell_type": "code",
      "metadata": {
        "id": "5XgmAMcm8RKh"
      },
      "source": [
        "from tensorflow.keras.layers import Layer"
      ],
      "execution_count": null,
      "outputs": []
    },
    {
      "cell_type": "code",
      "metadata": {
        "id": "I_zauJSf8RKh",
        "colab": {
          "base_uri": "https://localhost:8080/"
        },
        "outputId": "5aede150-2ee7-4213-fc13-12e3c08d11ec"
      },
      "source": [
        "# Build a custom layer for the linear regression model\n",
        "\n",
        "class LinearRegression(Layer):\n",
        "  def __init__(self):\n",
        "    super(LinearRegression, self).__init__()\n",
        "  def build(self, input_shape):\n",
        "    self.w = self.add_weight(shape=(input_shape[-1], 1), initializer=tf.random_normal_initializer())\n",
        "    self.b = self.add_weight(shape=(1), initializer=tf.zeros_initializer())\n",
        "  def call(self, inputs):\n",
        "    return tf.matmul(inputs, self.w) + self.b\n",
        "  \n",
        "linear_regression = LinearRegression()\n",
        "linear_regression.trainable_variables"
      ],
      "execution_count": null,
      "outputs": [
        {
          "output_type": "execute_result",
          "data": {
            "text/plain": [
              "[]"
            ]
          },
          "metadata": {},
          "execution_count": 83
        }
      ]
    },
    {
      "cell_type": "markdown",
      "metadata": {
        "id": "NkMyJPkP8RKi"
      },
      "source": [
        "#### Define the loss function"
      ]
    },
    {
      "cell_type": "code",
      "metadata": {
        "id": "eTffzfCR8RKi",
        "colab": {
          "base_uri": "https://localhost:8080/"
        },
        "outputId": "6797819e-fcf5-4557-d31e-977d6bebf2c1"
      },
      "source": [
        "# Define the mean squared error loss function\n",
        "\n",
        "def SquaredError(y_pred, y_true):\n",
        "    return tf.reduce_mean(tf.square(y_pred - y_true)) \n",
        "\n",
        "y_pred = linear_regression(tf.expand_dims(x_train, -1))\n",
        "starting_loss = SquaredError(y_pred, y_train)\n",
        "print(\"Starting loss\", starting_loss.numpy())"
      ],
      "execution_count": null,
      "outputs": [
        {
          "output_type": "stream",
          "text": [
            "Starting loss 5.6472344\n"
          ],
          "name": "stdout"
        }
      ]
    },
    {
      "cell_type": "markdown",
      "metadata": {
        "id": "6AGlJsVe8RKi"
      },
      "source": [
        "#### Train and plot the model"
      ]
    },
    {
      "cell_type": "code",
      "metadata": {
        "id": "fUi0oMFr8RKi"
      },
      "source": [
        "# Implement a gradient descent training loop for the linear regression model\n",
        "\n",
        "learning_rate = 0.05\n",
        "steps = 25\n",
        "\n",
        "for s in range(steps):\n",
        "  with tf.GradientTape() as tape:\n",
        "    y_pred = linear_regression(tf.expand_dims(x_train, -1))\n",
        "    loss = SquaredError(y_pred, y_train)\n",
        "\n",
        "  gradients = tape.gradient(loss, linear_regression.trainable_variables)\n",
        "\n",
        "  linear_regression.w.assign_sub(learning_rate * gradients[0])\n",
        "  linear_regression.b.assign_sub(learning_rate * gradients[1])"
      ],
      "execution_count": null,
      "outputs": []
    },
    {
      "cell_type": "code",
      "metadata": {
        "id": "7CZtLoKd8RKi",
        "colab": {
          "base_uri": "https://localhost:8080/",
          "height": 1000
        },
        "outputId": "afe3d94a-f84c-4600-cda5-f4bf9b5eacdb"
      },
      "source": [
        "# Plot the learned regression model\n",
        "\n",
        "print(\"w:{},  trained w:{}\".format(w,linear_regression.w.numpy()))\n",
        "print(\"b:{},  trained b:{}\".format(b,linear_regression.b.numpy()))\n",
        "\n",
        "plt.plot(x_train, y_train, 'b.')\n",
        "\n",
        "x_linear_regression=[np.linspace(min(x_train), max(x_train),50)]\n",
        "plt.plot(x_linear_regression, linear_regression.w*x_linear_regression+linear_regression.b, 'r.')"
      ],
      "execution_count": null,
      "outputs": [
        {
          "output_type": "stream",
          "text": [
            "w:1,  trained w:[[0.8304185]]\n",
            "b:2,  trained b:[1.8485436]\n"
          ],
          "name": "stdout"
        },
        {
          "output_type": "execute_result",
          "data": {
            "text/plain": [
              "[<matplotlib.lines.Line2D at 0x7f17d990bc90>,\n",
              " <matplotlib.lines.Line2D at 0x7f17e61fdb10>,\n",
              " <matplotlib.lines.Line2D at 0x7f17e61fdcd0>,\n",
              " <matplotlib.lines.Line2D at 0x7f17e61fde90>,\n",
              " <matplotlib.lines.Line2D at 0x7f17e61fdd10>,\n",
              " <matplotlib.lines.Line2D at 0x7f17e6201110>,\n",
              " <matplotlib.lines.Line2D at 0x7f17e6201150>,\n",
              " <matplotlib.lines.Line2D at 0x7f17e6201190>,\n",
              " <matplotlib.lines.Line2D at 0x7f17e62014d0>,\n",
              " <matplotlib.lines.Line2D at 0x7f17e6201a90>,\n",
              " <matplotlib.lines.Line2D at 0x7f17e6201890>,\n",
              " <matplotlib.lines.Line2D at 0x7f17e6201310>,\n",
              " <matplotlib.lines.Line2D at 0x7f17e6201e90>,\n",
              " <matplotlib.lines.Line2D at 0x7f17e6201a50>,\n",
              " <matplotlib.lines.Line2D at 0x7f17e6200090>,\n",
              " <matplotlib.lines.Line2D at 0x7f17e6200150>,\n",
              " <matplotlib.lines.Line2D at 0x7f17e6200310>,\n",
              " <matplotlib.lines.Line2D at 0x7f17e62004d0>,\n",
              " <matplotlib.lines.Line2D at 0x7f17e6200690>,\n",
              " <matplotlib.lines.Line2D at 0x7f17e6200850>,\n",
              " <matplotlib.lines.Line2D at 0x7f17e6200a10>,\n",
              " <matplotlib.lines.Line2D at 0x7f17e6200e90>,\n",
              " <matplotlib.lines.Line2D at 0x7f17e6200190>,\n",
              " <matplotlib.lines.Line2D at 0x7f17e61f6090>,\n",
              " <matplotlib.lines.Line2D at 0x7f17e61f6150>,\n",
              " <matplotlib.lines.Line2D at 0x7f17e61f6310>,\n",
              " <matplotlib.lines.Line2D at 0x7f17e61f64d0>,\n",
              " <matplotlib.lines.Line2D at 0x7f17e61f6690>,\n",
              " <matplotlib.lines.Line2D at 0x7f17e61f6850>,\n",
              " <matplotlib.lines.Line2D at 0x7f17e61f6a10>,\n",
              " <matplotlib.lines.Line2D at 0x7f17e61f6e90>,\n",
              " <matplotlib.lines.Line2D at 0x7f17e61f6190>,\n",
              " <matplotlib.lines.Line2D at 0x7f17e6213090>,\n",
              " <matplotlib.lines.Line2D at 0x7f17e6213150>,\n",
              " <matplotlib.lines.Line2D at 0x7f17e6213310>,\n",
              " <matplotlib.lines.Line2D at 0x7f17e62134d0>,\n",
              " <matplotlib.lines.Line2D at 0x7f17e6213690>,\n",
              " <matplotlib.lines.Line2D at 0x7f17e6213850>,\n",
              " <matplotlib.lines.Line2D at 0x7f17e6213a10>,\n",
              " <matplotlib.lines.Line2D at 0x7f17e6213e90>,\n",
              " <matplotlib.lines.Line2D at 0x7f17e6213190>,\n",
              " <matplotlib.lines.Line2D at 0x7f17e6214090>,\n",
              " <matplotlib.lines.Line2D at 0x7f17e6214150>,\n",
              " <matplotlib.lines.Line2D at 0x7f17e6214310>,\n",
              " <matplotlib.lines.Line2D at 0x7f17e62144d0>,\n",
              " <matplotlib.lines.Line2D at 0x7f17e6214690>,\n",
              " <matplotlib.lines.Line2D at 0x7f17e6214850>,\n",
              " <matplotlib.lines.Line2D at 0x7f17e6214a10>,\n",
              " <matplotlib.lines.Line2D at 0x7f17e6214e90>,\n",
              " <matplotlib.lines.Line2D at 0x7f17e6214190>]"
            ]
          },
          "metadata": {},
          "execution_count": 86
        },
        {
          "output_type": "display_data",
          "data": {
            "image/png": "[encoded data removed]",
            "text/plain": [
              "<Figure size 432x288 with 1 Axes>"
            ]
          },
          "metadata": {
            "needs_background": "light"
          }
        }
      ]
    },
    {
      "cell_type": "markdown",
      "metadata": {
        "id": "2fBbA8x58RKi"
      },
      "source": [
        "***\n",
        "<a id=\"coding_tutorial_4\"></a>\n",
        "## Custom training loops"
      ]
    },
    {
      "cell_type": "code",
      "metadata": {
        "id": "3dAiJUtk8RKj"
      },
      "source": [
        "import numpy as np\n",
        "import matplotlib.pyplot as plt\n",
        "import time"
      ],
      "execution_count": null,
      "outputs": []
    },
    {
      "cell_type": "markdown",
      "metadata": {
        "id": "jfES8AoI8RKj"
      },
      "source": [
        "#### Build the model"
      ]
    },
    {
      "cell_type": "code",
      "metadata": {
        "id": "1r4eJsjH8RKj"
      },
      "source": [
        "from tensorflow.keras.models import Model\n",
        "from tensorflow.keras.layers import Layer, Softmax"
      ],
      "execution_count": null,
      "outputs": []
    },
    {
      "cell_type": "markdown",
      "metadata": {
        "id": "O1iyK_tj8RKj"
      },
      "source": [
        "#### Load the reuters dataset and define the class_names "
      ]
    },
    {
      "cell_type": "code",
      "metadata": {
        "id": "un4W_xHV8RKj"
      },
      "source": [
        "# Load the dataset\n",
        "\n",
        "from tensorflow.keras.datasets import reuters\n",
        "\n",
        "(train_data, train_labels), (test_data, test_labels) = reuters.load_data(num_words=10000)\n",
        "\n",
        "class_names = ['cocoa','grain','veg-oil','earn','acq','wheat','copper','housing','money-supply',\n",
        "   'coffee','sugar','trade','reserves','ship','cotton','carcass','crude','nat-gas',\n",
        "   'cpi','money-fx','interest','gnp','meal-feed','alum','oilseed','gold','tin',\n",
        "   'strategic-metal','livestock','retail','ipi','iron-steel','rubber','heat','jobs',\n",
        "   'lei','bop','zinc','orange','pet-chem','dlr','gas','silver','wpi','hog','lead']"
      ],
      "execution_count": null,
      "outputs": []
    },
    {
      "cell_type": "code",
      "metadata": {
        "id": "NhhPoz4H8RKj",
        "colab": {
          "base_uri": "https://localhost:8080/"
        },
        "outputId": "7df136a6-e695-428e-8e2e-fe4c9107c38c"
      },
      "source": [
        "# Print the class of the first sample\n",
        "\n",
        "print(\"Label: {}\".format(class_names[train_labels[0]]))"
      ],
      "execution_count": null,
      "outputs": [
        {
          "output_type": "stream",
          "text": [
            "Label: earn\n"
          ],
          "name": "stdout"
        }
      ]
    },
    {
      "cell_type": "markdown",
      "metadata": {
        "id": "F9kYsaBC8RKk"
      },
      "source": [
        "#### Get the dataset word index"
      ]
    },
    {
      "cell_type": "code",
      "metadata": {
        "id": "qdn4DUuP8RKk"
      },
      "source": [
        "# Load the Reuters word index\n",
        "\n",
        "word_to_index = reuters.get_word_index()\n",
        "\n",
        "invert_word_index = dict([(value, key) for (key, value) in word_to_index.items()])"
      ],
      "execution_count": null,
      "outputs": []
    },
    {
      "cell_type": "code",
      "metadata": {
        "id": "VLrIVHk78RKk",
        "colab": {
          "base_uri": "https://localhost:8080/"
        },
        "outputId": "802b547f-94ab-4637-ab9d-236f57f22b69"
      },
      "source": [
        "# Print the first data example sentence\n",
        "\n",
        "text_news = ' '.join([invert_word_index.get(i - 3, '?') for i in train_data[0]])\n",
        "print(text_news)"
      ],
      "execution_count": null,
      "outputs": [
        {
          "output_type": "stream",
          "text": [
            "? ? ? said as a result of its december acquisition of space co it expects earnings per share in 1987 of 1 15 to 1 30 dlrs per share up from 70 cts in 1986 the company said pretax net should rise to nine to 10 mln dlrs from six mln dlrs in 1986 and rental operation revenues to 19 to 22 mln dlrs from 12 5 mln dlrs it said cash flow per share this year should be 2 50 to three dlrs reuter 3\n"
          ],
          "name": "stdout"
        }
      ]
    },
    {
      "cell_type": "markdown",
      "metadata": {
        "id": "BQAnoWwm8RKk"
      },
      "source": [
        "#### Preprocess the data"
      ]
    },
    {
      "cell_type": "code",
      "metadata": {
        "id": "KMKPOVwn8RKl",
        "colab": {
          "base_uri": "https://localhost:8080/"
        },
        "outputId": "cb13a3fb-1a38-45b1-b9ae-61bc82e0cd6e"
      },
      "source": [
        "# Define a function that encodes the data into a 'bag of words' representation\n",
        "\n",
        "def bag_of_words(text_samples, elements=10000):\n",
        "    output = np.zeros((len(text_samples), elements))\n",
        "    for i, word in enumerate(text_samples):\n",
        "        output[i, word] = 1.\n",
        "    return output\n",
        "\n",
        "x_train = bag_of_words(train_data)\n",
        "x_test = bag_of_words(test_data)\n",
        "\n",
        "print(\"Shape of x_train:\", x_train.shape)\n",
        "print(\"Shape of x_test:\", x_test.shape)"
      ],
      "execution_count": null,
      "outputs": [
        {
          "output_type": "stream",
          "text": [
            "Shape of x_train: (8982, 10000)\n",
            "Shape of x_test: (2246, 10000)\n"
          ],
          "name": "stdout"
        }
      ]
    },
    {
      "cell_type": "markdown",
      "metadata": {
        "id": "0n-i8PdA8RKl"
      },
      "source": [
        "#### Define the loss function and optimizer\n",
        "\n"
      ]
    },
    {
      "cell_type": "code",
      "metadata": {
        "id": "bFD-GYP-8RKl"
      },
      "source": [
        "# Define the categorical cross entropy loss and Adam optimizer\n",
        "\n",
        "loss_object = tf.keras.losses.SparseCategoricalCrossentropy()\n",
        "\n",
        "def loss(model, x, y, wd):\n",
        "    kernel_variables = []\n",
        "    for l in model.layers:\n",
        "        for w in l.weights:\n",
        "            if 'kernel' in w.name:\n",
        "                kernel_variables.append(w)\n",
        "    wd_penalty = wd * tf.reduce_sum([tf.reduce_sum(tf.square(k)) for k in kernel_variables])\n",
        "    y_ = model(x)\n",
        "    return loss_object(y_true=y, y_pred=y_) + wd_penalty\n",
        "\n",
        "optimizer = tf.keras.optimizers.Adam(learning_rate=0.001)"
      ],
      "execution_count": null,
      "outputs": []
    },
    {
      "cell_type": "markdown",
      "metadata": {
        "id": "rv-bLWgh8RKl"
      },
      "source": [
        "#### Train the model"
      ]
    },
    {
      "cell_type": "code",
      "metadata": {
        "id": "ixvHlLmy8RKl"
      },
      "source": [
        "# Define a function to compute the forward and backward pass\n",
        "\n",
        "def grad(model, inputs, targets, wd):\n",
        "    with tf.GradientTape() as tape:\n",
        "        loss_value = loss(model, inputs, targets, wd)\n",
        "    return loss_value, tape.gradient(loss_value, model.trainable_variables)"
      ],
      "execution_count": null,
      "outputs": []
    },
    {
      "cell_type": "code",
      "metadata": {
        "id": "3IDOyBb48RKm"
      },
      "source": [
        "# Implement the training loop\n",
        "\n",
        "from tensorflow.keras.utils import to_categorical\n",
        "\n",
        "epochs=16\n",
        "weight_decay = 0.005\n",
        "batch_size = 32\n",
        "\n",
        "train_dataset = tf.data.Dataset.from_tensor_slices((x_train, train_labels)).batch(batch_size)\n",
        "\n",
        "def train(dataset):\n",
        "  train_acc_metric = tf.keras.metrics.SparseCategoricalAccuracy()\n",
        "  train_loss_metric = tf.keras.metrics.Mean()\n",
        "\n",
        "  train_loss_results=[]\n",
        "  train_accuracy_results=[]\n",
        "  for epoch in np.arange(epochs):\n",
        "    for step, (x, y) in enumerate(train_dataset):\n",
        "      loss_value, grads = grad(model, x, y, weight_decay)\n",
        "      # Processing aggregated gradients.\n",
        "      optimizer.apply_gradients(zip(grads,  model.trainable_variables), experimental_aggregate_gradients=False)\n",
        "      \n",
        "      # Update training metric.\n",
        "      train_acc_metric.update_state(y, model(x))\n",
        "      train_loss_metric.update_state(loss_value)\n",
        "\n",
        "      # Log every 200 batches.\n",
        "      if step % 100 == 0:\n",
        "          print(\n",
        "              \"Training loss (for one batch) at step %d: %.4f\"\n",
        "              % (step, float(loss_value))\n",
        "          )\n",
        "          print(\"Seen so far: %d samples\" % ((step + 1) * batch_size))\n",
        "\n",
        "    # Display metrics at the end of each epoch.\n",
        "    train_acc = train_acc_metric.result()\n",
        "    train_loss = train_loss_metric.result()\n",
        "    train_acc_metric.reset_states()\n",
        "    train_loss_metric.reset_states()\n",
        "    train_accuracy_results.append(train_acc)\n",
        "    train_loss_results.append(train_loss)\n",
        "    print(\"Training acc over epoch: %.4f\" % (float(train_acc),))\n",
        "    print(\"Training loss over epoch: %.4f\" % (float(train_loss),))\n",
        "  return train_loss_results, train_accuracy_results"
      ],
      "execution_count": null,
      "outputs": []
    },
    {
      "cell_type": "code",
      "metadata": {
        "id": "nyVBX_0Ut5-7"
      },
      "source": [
        "# Define the custom layers and model\n",
        "\n",
        "class SimpleDense(Layer):\n",
        "  def __init__(self, units):\n",
        "    super(SimpleDense, self).__init__()\n",
        "    self.units = units\n",
        "  def build(self, input_shape):\n",
        "    self.w = self.add_weight(shape=(input_shape[-1], self.units), initializer=tf.random_normal_initializer(), name='kernel')\n",
        "    self.b = self.add_weight(shape=(self.units), initializer=tf.zeros_initializer(), name='bias')\n",
        "  def call(self, inputs):\n",
        "    return tf.matmul(inputs, self.w) + self.b\n",
        "\n",
        "class MyDropout(Layer):\n",
        "  def __init__(self, rate):\n",
        "    super(MyDropout, self).__init__()\n",
        "    self.rate = rate\n",
        "      \n",
        "  def call(self, inputs, training):\n",
        "    # Define forward pass for dropout layer\n",
        "    if (training):\n",
        "      return tf.nn.dropout(inputs, rate=self.rate)\n",
        "    return inputs\n",
        "\n",
        "class MyModel(Model):\n",
        "  def __init__(self, units_1, units_2, units_3):\n",
        "    super(MyModel, self).__init__()\n",
        "    # Define layers\n",
        "    self.dense_1 = SimpleDense(units_1)\n",
        "    self.dropout_1 = MyDropout(0.7)\n",
        "    self.dense_2 = SimpleDense(units_2)\n",
        "    self.dropout_2 = MyDropout(0.7)\n",
        "    self.dense_3 = SimpleDense(units_3)\n",
        "  def call(self, inputs, training):\n",
        "    # Define forward pass\n",
        "    h = self.dense_1(inputs)\n",
        "    h = self.dropout_1(h, training=training)\n",
        "    h = self.dense_2(h)\n",
        "    h = self.dropout_2(h, training=training)\n",
        "    return tf.nn.softmax(self.dense_3(h))"
      ],
      "execution_count": null,
      "outputs": []
    },
    {
      "cell_type": "code",
      "metadata": {
        "colab": {
          "base_uri": "https://localhost:8080/"
        },
        "id": "YmYahTVQz_i1",
        "outputId": "4812a679-3ad0-4ae3-a2be-167d54a6a3ba"
      },
      "source": [
        "model = MyModel(16, 16, len(class_names))  \n",
        "model(np.asarray([x_train[0]]))\n",
        "model.summary()"
      ],
      "execution_count": null,
      "outputs": [
        {
          "output_type": "stream",
          "text": [
            "Model: \"my_model_9\"\n",
            "_________________________________________________________________\n",
            "Layer (type)                 Output Shape              Param #   \n",
            "=================================================================\n",
            "simple_dense_25 (SimpleDense multiple                  160016    \n",
            "_________________________________________________________________\n",
            "my_dropout_14 (MyDropout)    multiple                  0         \n",
            "_________________________________________________________________\n",
            "simple_dense_26 (SimpleDense multiple                  272       \n",
            "_________________________________________________________________\n",
            "my_dropout_15 (MyDropout)    multiple                  0         \n",
            "_________________________________________________________________\n",
            "simple_dense_27 (SimpleDense multiple                  782       \n",
            "=================================================================\n",
            "Total params: 161,070\n",
            "Trainable params: 161,070\n",
            "Non-trainable params: 0\n",
            "_________________________________________________________________\n"
          ],
          "name": "stdout"
        }
      ]
    },
    {
      "cell_type": "code",
      "metadata": {
        "colab": {
          "base_uri": "https://localhost:8080/"
        },
        "id": "rzIZMupsw5Dg",
        "outputId": "6ad18587-1931-41ca-bf13-cd358ef27efd"
      },
      "source": [
        "start_time = time.time()\n",
        "train_loss_results, train_accuracy_results = train(train_dataset)\n",
        "print(\"Duration :{:.3f}\".format(time.time() - start_time))"
      ],
      "execution_count": null,
      "outputs": [
        {
          "output_type": "stream",
          "text": [
            "Training loss (for one batch) at step 0: 5.8518\n",
            "Seen so far: 32 samples\n",
            "Training loss (for one batch) at step 100: 2.2301\n",
            "Seen so far: 3232 samples\n",
            "Training loss (for one batch) at step 200: 1.6487\n",
            "Seen so far: 6432 samples\n",
            "Training acc over epoch: 0.4325\n",
            "Training loss over epoch: 2.5859\n",
            "Training loss (for one batch) at step 0: 1.2715\n",
            "Seen so far: 32 samples\n",
            "Training loss (for one batch) at step 100: 1.6354\n",
            "Seen so far: 3232 samples\n",
            "Training loss (for one batch) at step 200: 1.3380\n",
            "Seen so far: 6432 samples\n",
            "Training acc over epoch: 0.5957\n",
            "Training loss over epoch: 1.7739\n",
            "Training loss (for one batch) at step 0: 1.1425\n",
            "Seen so far: 32 samples\n",
            "Training loss (for one batch) at step 100: 1.5312\n",
            "Seen so far: 3232 samples\n",
            "Training loss (for one batch) at step 200: 1.2417\n",
            "Seen so far: 6432 samples\n",
            "Training acc over epoch: 0.6593\n",
            "Training loss over epoch: 1.6562\n",
            "Training loss (for one batch) at step 0: 1.1475\n",
            "Seen so far: 32 samples\n",
            "Training loss (for one batch) at step 100: 1.4346\n",
            "Seen so far: 3232 samples\n",
            "Training loss (for one batch) at step 200: 1.1835\n",
            "Seen so far: 6432 samples\n",
            "Training acc over epoch: 0.6880\n",
            "Training loss over epoch: 1.5900\n",
            "Training loss (for one batch) at step 0: 1.1834\n",
            "Seen so far: 32 samples\n",
            "Training loss (for one batch) at step 100: 1.3581\n",
            "Seen so far: 3232 samples\n",
            "Training loss (for one batch) at step 200: 1.1318\n",
            "Seen so far: 6432 samples\n",
            "Training acc over epoch: 0.7015\n",
            "Training loss over epoch: 1.5473\n",
            "Training loss (for one batch) at step 0: 1.1916\n",
            "Seen so far: 32 samples\n",
            "Training loss (for one batch) at step 100: 1.3084\n",
            "Seen so far: 3232 samples\n",
            "Training loss (for one batch) at step 200: 1.0915\n",
            "Seen so far: 6432 samples\n",
            "Training acc over epoch: 0.7099\n",
            "Training loss over epoch: 1.5178\n",
            "Training loss (for one batch) at step 0: 1.1859\n",
            "Seen so far: 32 samples\n",
            "Training loss (for one batch) at step 100: 1.2747\n",
            "Seen so far: 3232 samples\n",
            "Training loss (for one batch) at step 200: 1.0628\n",
            "Seen so far: 6432 samples\n",
            "Training acc over epoch: 0.7163\n",
            "Training loss over epoch: 1.4951\n",
            "Training loss (for one batch) at step 0: 1.1762\n",
            "Seen so far: 32 samples\n",
            "Training loss (for one batch) at step 100: 1.2494\n",
            "Seen so far: 3232 samples\n",
            "Training loss (for one batch) at step 200: 1.0433\n",
            "Seen so far: 6432 samples\n",
            "Training acc over epoch: 0.7220\n",
            "Training loss over epoch: 1.4756\n",
            "Training loss (for one batch) at step 0: 1.1652\n",
            "Seen so far: 32 samples\n",
            "Training loss (for one batch) at step 100: 1.2283\n",
            "Seen so far: 3232 samples\n",
            "Training loss (for one batch) at step 200: 1.0311\n",
            "Seen so far: 6432 samples\n",
            "Training acc over epoch: 0.7285\n",
            "Training loss over epoch: 1.4578\n",
            "Training loss (for one batch) at step 0: 1.1526\n",
            "Seen so far: 32 samples\n",
            "Training loss (for one batch) at step 100: 1.2110\n",
            "Seen so far: 3232 samples\n",
            "Training loss (for one batch) at step 200: 1.0253\n",
            "Seen so far: 6432 samples\n",
            "Training acc over epoch: 0.7356\n",
            "Training loss over epoch: 1.4404\n",
            "Training loss (for one batch) at step 0: 1.1400\n",
            "Seen so far: 32 samples\n",
            "Training loss (for one batch) at step 100: 1.1998\n",
            "Seen so far: 3232 samples\n",
            "Training loss (for one batch) at step 200: 1.0261\n",
            "Seen so far: 6432 samples\n",
            "Training acc over epoch: 0.7478\n",
            "Training loss over epoch: 1.4237\n",
            "Training loss (for one batch) at step 0: 1.1302\n",
            "Seen so far: 32 samples\n",
            "Training loss (for one batch) at step 100: 1.1933\n",
            "Seen so far: 3232 samples\n",
            "Training loss (for one batch) at step 200: 1.0285\n",
            "Seen so far: 6432 samples\n",
            "Training acc over epoch: 0.7576\n",
            "Training loss over epoch: 1.4096\n",
            "Training loss (for one batch) at step 0: 1.1237\n",
            "Seen so far: 32 samples\n",
            "Training loss (for one batch) at step 100: 1.1866\n",
            "Seen so far: 3232 samples\n",
            "Training loss (for one batch) at step 200: 1.0279\n",
            "Seen so far: 6432 samples\n",
            "Training acc over epoch: 0.7635\n",
            "Training loss over epoch: 1.3986\n",
            "Training loss (for one batch) at step 0: 1.1201\n",
            "Seen so far: 32 samples\n",
            "Training loss (for one batch) at step 100: 1.1802\n",
            "Seen so far: 3232 samples\n",
            "Training loss (for one batch) at step 200: 1.0265\n",
            "Seen so far: 6432 samples\n",
            "Training acc over epoch: 0.7678\n",
            "Training loss over epoch: 1.3896\n",
            "Training loss (for one batch) at step 0: 1.1182\n",
            "Seen so far: 32 samples\n",
            "Training loss (for one batch) at step 100: 1.1737\n",
            "Seen so far: 3232 samples\n",
            "Training loss (for one batch) at step 200: 1.0248\n",
            "Seen so far: 6432 samples\n",
            "Training acc over epoch: 0.7707\n",
            "Training loss over epoch: 1.3819\n",
            "Training loss (for one batch) at step 0: 1.1167\n",
            "Seen so far: 32 samples\n",
            "Training loss (for one batch) at step 100: 1.1664\n",
            "Seen so far: 3232 samples\n",
            "Training loss (for one batch) at step 200: 1.0226\n",
            "Seen so far: 6432 samples\n",
            "Training acc over epoch: 0.7735\n",
            "Training loss over epoch: 1.3748\n",
            "Duration :65.291\n"
          ],
          "name": "stdout"
        }
      ]
    },
    {
      "cell_type": "markdown",
      "metadata": {
        "id": "oaRmHgxY8RKm"
      },
      "source": [
        "#### Evaluate the model"
      ]
    },
    {
      "cell_type": "code",
      "metadata": {
        "id": "zNwQx-hQ8RKm"
      },
      "source": [
        "# Create a Dataset object for the test set\n",
        "\n",
        "test_dataset = tf.data.Dataset.from_tensor_slices((x_test, test_labels))\n",
        "test_dataset = test_dataset.batch(32)"
      ],
      "execution_count": null,
      "outputs": []
    },
    {
      "cell_type": "code",
      "metadata": {
        "id": "0in6_8vv8RKm"
      },
      "source": [
        "# Collect average loss and accuracy\n",
        "\n",
        "epoch_loss_avg = tf.keras.metrics.Mean()\n",
        "epoch_accuracy = tf.keras.metrics.CategoricalAccuracy()"
      ],
      "execution_count": null,
      "outputs": []
    },
    {
      "cell_type": "code",
      "metadata": {
        "id": "iebYHCKx8RKm",
        "colab": {
          "base_uri": "https://localhost:8080/"
        },
        "outputId": "cb7d0327-43b2-4f08-fbfa-7e72b05dfa28"
      },
      "source": [
        "# Loop over the test set and print scores\n",
        "\n",
        "from tensorflow.keras.utils import to_categorical\n",
        "\n",
        "for x, y in test_dataset:\n",
        "    # Optimize the model\n",
        "    weight_decay = 0.01\n",
        "    loss_value = loss(model, x, y, weight_decay)\n",
        "    # Compute current loss\n",
        "    epoch_loss_avg(loss_value)\n",
        "    # Compare predicted label to actual label\n",
        "    epoch_accuracy(to_categorical(y), model(x))\n",
        "\n",
        "print(\"Test loss: {:.3f}\".format(epoch_loss_avg.result().numpy()))\n",
        "print(\"Test accuracy: {:.3%}\".format(epoch_accuracy.result().numpy()))"
      ],
      "execution_count": null,
      "outputs": [
        {
          "output_type": "stream",
          "text": [
            "Test loss: 2.030\n",
            "Test accuracy: 70.614%\n"
          ],
          "name": "stdout"
        }
      ]
    },
    {
      "cell_type": "markdown",
      "metadata": {
        "id": "fJ_O2jcP8RKm"
      },
      "source": [
        "#### Plot the learning curves"
      ]
    },
    {
      "cell_type": "code",
      "metadata": {
        "id": "En-t44Ao8RKn",
        "colab": {
          "base_uri": "https://localhost:8080/",
          "height": 558
        },
        "outputId": "071119c0-f88d-452d-d9e3-2623d7980a4b"
      },
      "source": [
        "# Plot the training loss and accuracy\n",
        "\n",
        "fig, axes = plt.subplots(2, sharex=True, figsize=(12, 8))\n",
        "fig.suptitle('Training Metrics')\n",
        "\n",
        "axes[0].set_ylabel(\"Loss\", fontsize=14)\n",
        "axes[0].plot(train_loss_results)\n",
        "\n",
        "axes[1].set_ylabel(\"Accuracy\", fontsize=14)\n",
        "axes[1].set_xlabel(\"Epoch\", fontsize=14)\n",
        "axes[1].plot(train_accuracy_results)\n",
        "plt.show()"
      ],
      "execution_count": null,
      "outputs": [
        {
          "output_type": "display_data",
          "data": {
            "image/png": "[encoded data removed]",
            "text/plain": [
              "<Figure size 864x576 with 2 Axes>"
            ]
          },
          "metadata": {
            "needs_background": "light"
          }
        }
      ]
    },
    {
      "cell_type": "markdown",
      "metadata": {
        "id": "_bYY2Kir8RKn"
      },
      "source": [
        "#### Predict from the model"
      ]
    },
    {
      "cell_type": "code",
      "metadata": {
        "id": "qXLtMzpX8RKn",
        "colab": {
          "base_uri": "https://localhost:8080/"
        },
        "outputId": "2b48fbbb-d3d7-4e64-faec-77fba3109de9"
      },
      "source": [
        "# Get the model prediction for an example input\n",
        "\n",
        "predicted_label = np.argmax(model(x_train[np.newaxis,0]),axis=1)[0]\n",
        "print(\"Prediction: {}\".format(class_names[predicted_label]))\n",
        "print(\"     Label: {}\".format(class_names[train_labels[0]]))"
      ],
      "execution_count": null,
      "outputs": [
        {
          "output_type": "stream",
          "text": [
            "Prediction: earn\n",
            "     Label: earn\n"
          ],
          "name": "stdout"
        }
      ]
    },
    {
      "cell_type": "markdown",
      "metadata": {
        "id": "GWV1Pkrv8RKn"
      },
      "source": [
        "***\n",
        "<a id=\"coding_tutorial_5\"></a>\n",
        "## tf.function decorator"
      ]
    },
    {
      "cell_type": "code",
      "metadata": {
        "id": "XyEQ4Lp-8RKn"
      },
      "source": [
        "from tensorflow.keras.models import Model\n",
        "from tensorflow.keras.layers import Layer, Softmax\n",
        "from tensorflow.keras.utils import to_categorical\n",
        "from tensorflow.keras.datasets import reuters\n",
        "import numpy as np\n",
        "import matplotlib.pyplot as plt\n",
        "import time"
      ],
      "execution_count": null,
      "outputs": []
    },
    {
      "cell_type": "markdown",
      "metadata": {
        "id": "3x_9PFkQ8RKn"
      },
      "source": [
        "#### Build the model"
      ]
    },
    {
      "cell_type": "code",
      "metadata": {
        "id": "CLOJ5hn-8RKn"
      },
      "source": [
        "# Initialize a new model\n",
        "\n",
        "model = MyModel(16, 16, len(class_names))"
      ],
      "execution_count": null,
      "outputs": []
    },
    {
      "cell_type": "markdown",
      "metadata": {
        "id": "WO5rMwZg8RKo"
      },
      "source": [
        "#### Redefine the grad function using the @tf.function decorator"
      ]
    },
    {
      "cell_type": "code",
      "metadata": {
        "id": "bEguZT0b8RKo"
      },
      "source": [
        "# Use the @tf.function decorator\n",
        "\n",
        "@tf.function\n",
        "def grad(model, inputs, targets, wd):\n",
        "    with tf.GradientTape() as tape:\n",
        "        loss_value = loss(model, inputs, targets, wd)\n",
        "    return loss_value, tape.gradient(loss_value, model.trainable_variables)"
      ],
      "execution_count": null,
      "outputs": []
    },
    {
      "cell_type": "markdown",
      "metadata": {
        "id": "X2IaVjoy8RKo"
      },
      "source": [
        "#### Train the model"
      ]
    },
    {
      "cell_type": "code",
      "metadata": {
        "id": "tyxKarhm8RKo",
        "colab": {
          "base_uri": "https://localhost:8080/"
        },
        "outputId": "8e6708e6-11a6-4129-ca8a-43395d09e5a4"
      },
      "source": [
        "# Re-run the training loop\n",
        "\n",
        "start_time = time.time()\n",
        "train(train_dataset)\n",
        "print(\"Duration :{:.3f}\".format(time.time() - start_time))"
      ],
      "execution_count": null,
      "outputs": [
        {
          "output_type": "stream",
          "text": [
            "Training loss (for one batch) at step 0: 7.8452\n",
            "Seen so far: 32 samples\n",
            "Training loss (for one batch) at step 100: 1.8143\n",
            "Seen so far: 3232 samples\n",
            "Training loss (for one batch) at step 200: 1.5320\n",
            "Seen so far: 6432 samples\n",
            "Training acc over epoch: 0.5596\n",
            "Training loss over epoch: 2.1987\n",
            "Training loss (for one batch) at step 0: 1.3244\n",
            "Seen so far: 32 samples\n",
            "Training loss (for one batch) at step 100: 1.6477\n",
            "Seen so far: 3232 samples\n",
            "Training loss (for one batch) at step 200: 1.4145\n",
            "Seen so far: 6432 samples\n",
            "Training acc over epoch: 0.6583\n",
            "Training loss over epoch: 1.8311\n",
            "Training loss (for one batch) at step 0: 1.3280\n",
            "Seen so far: 32 samples\n",
            "Training loss (for one batch) at step 100: 1.5597\n",
            "Seen so far: 3232 samples\n",
            "Training loss (for one batch) at step 200: 1.3584\n",
            "Seen so far: 6432 samples\n",
            "Training acc over epoch: 0.6823\n",
            "Training loss over epoch: 1.7666\n",
            "Training loss (for one batch) at step 0: 1.3255\n",
            "Seen so far: 32 samples\n",
            "Training loss (for one batch) at step 100: 1.5068\n",
            "Seen so far: 3232 samples\n",
            "Training loss (for one batch) at step 200: 1.3226\n",
            "Seen so far: 6432 samples\n",
            "Training acc over epoch: 0.6926\n",
            "Training loss over epoch: 1.7297\n",
            "Training loss (for one batch) at step 0: 1.3108\n",
            "Seen so far: 32 samples\n",
            "Training loss (for one batch) at step 100: 1.4693\n",
            "Seen so far: 3232 samples\n",
            "Training loss (for one batch) at step 200: 1.2982\n",
            "Seen so far: 6432 samples\n",
            "Training acc over epoch: 0.6983\n",
            "Training loss over epoch: 1.7053\n",
            "Training loss (for one batch) at step 0: 1.2913\n",
            "Seen so far: 32 samples\n",
            "Training loss (for one batch) at step 100: 1.4431\n",
            "Seen so far: 3232 samples\n",
            "Training loss (for one batch) at step 200: 1.2803\n",
            "Seen so far: 6432 samples\n",
            "Training acc over epoch: 0.7011\n",
            "Training loss over epoch: 1.6875\n",
            "Training loss (for one batch) at step 0: 1.2714\n",
            "Seen so far: 32 samples\n",
            "Training loss (for one batch) at step 100: 1.4269\n",
            "Seen so far: 3232 samples\n",
            "Training loss (for one batch) at step 200: 1.2665\n",
            "Seen so far: 6432 samples\n",
            "Training acc over epoch: 0.7040\n",
            "Training loss over epoch: 1.6734\n",
            "Training loss (for one batch) at step 0: 1.2526\n",
            "Seen so far: 32 samples\n",
            "Training loss (for one batch) at step 100: 1.4191\n",
            "Seen so far: 3232 samples\n",
            "Training loss (for one batch) at step 200: 1.2556\n",
            "Seen so far: 6432 samples\n",
            "Training acc over epoch: 0.7080\n",
            "Training loss over epoch: 1.6615\n",
            "Training loss (for one batch) at step 0: 1.2361\n",
            "Seen so far: 32 samples\n",
            "Training loss (for one batch) at step 100: 1.4141\n",
            "Seen so far: 3232 samples\n",
            "Training loss (for one batch) at step 200: 1.2465\n",
            "Seen so far: 6432 samples\n",
            "Training acc over epoch: 0.7106\n",
            "Training loss over epoch: 1.6510\n",
            "Training loss (for one batch) at step 0: 1.2215\n",
            "Seen so far: 32 samples\n",
            "Training loss (for one batch) at step 100: 1.4080\n",
            "Seen so far: 3232 samples\n",
            "Training loss (for one batch) at step 200: 1.2382\n",
            "Seen so far: 6432 samples\n",
            "Training acc over epoch: 0.7118\n",
            "Training loss over epoch: 1.6416\n",
            "Training loss (for one batch) at step 0: 1.2067\n",
            "Seen so far: 32 samples\n",
            "Training loss (for one batch) at step 100: 1.4008\n",
            "Seen so far: 3232 samples\n",
            "Training loss (for one batch) at step 200: 1.2305\n",
            "Seen so far: 6432 samples\n",
            "Training acc over epoch: 0.7138\n",
            "Training loss over epoch: 1.6331\n",
            "Training loss (for one batch) at step 0: 1.1920\n",
            "Seen so far: 32 samples\n",
            "Training loss (for one batch) at step 100: 1.3932\n",
            "Seen so far: 3232 samples\n",
            "Training loss (for one batch) at step 200: 1.2238\n",
            "Seen so far: 6432 samples\n",
            "Training acc over epoch: 0.7171\n",
            "Training loss over epoch: 1.6255\n",
            "Training loss (for one batch) at step 0: 1.1787\n",
            "Seen so far: 32 samples\n",
            "Training loss (for one batch) at step 100: 1.3857\n",
            "Seen so far: 3232 samples\n",
            "Training loss (for one batch) at step 200: 1.2183\n",
            "Seen so far: 6432 samples\n",
            "Training acc over epoch: 0.7197\n",
            "Training loss over epoch: 1.6187\n",
            "Training loss (for one batch) at step 0: 1.1677\n",
            "Seen so far: 32 samples\n",
            "Training loss (for one batch) at step 100: 1.3784\n",
            "Seen so far: 3232 samples\n",
            "Training loss (for one batch) at step 200: 1.2140\n",
            "Seen so far: 6432 samples\n",
            "Training acc over epoch: 0.7211\n",
            "Training loss over epoch: 1.6124\n",
            "Training loss (for one batch) at step 0: 1.1592\n",
            "Seen so far: 32 samples\n",
            "Training loss (for one batch) at step 100: 1.3716\n",
            "Seen so far: 3232 samples\n",
            "Training loss (for one batch) at step 200: 1.2110\n",
            "Seen so far: 6432 samples\n",
            "Training acc over epoch: 0.7239\n",
            "Training loss over epoch: 1.6067\n",
            "Training loss (for one batch) at step 0: 1.1530\n",
            "Seen so far: 32 samples\n",
            "Training loss (for one batch) at step 100: 1.3656\n",
            "Seen so far: 3232 samples\n",
            "Training loss (for one batch) at step 200: 1.2090\n",
            "Seen so far: 6432 samples\n",
            "Training acc over epoch: 0.7248\n",
            "Training loss over epoch: 1.6014\n",
            "Duration :43.872\n"
          ],
          "name": "stdout"
        }
      ]
    },
    {
      "cell_type": "markdown",
      "metadata": {
        "id": "M11vU0E08RKo"
      },
      "source": [
        "#### Print the autograph code"
      ]
    },
    {
      "cell_type": "code",
      "metadata": {
        "id": "vxtXU0Eg8RKo",
        "colab": {
          "base_uri": "https://localhost:8080/"
        },
        "outputId": "d52638c4-860f-4883-ae3c-414a474d9bd5"
      },
      "source": [
        "# Use tf.autograph.to_code to see the generated code\n",
        "\n",
        "print(tf.autograph.to_code(grad.python_function))"
      ],
      "execution_count": null,
      "outputs": [
        {
          "output_type": "stream",
          "text": [
            "def tf__grad(model, inputs, targets, wd):\n",
            "    with ag__.FunctionScope('grad', 'fscope', ag__.ConversionOptions(recursive=True, user_requested=True, optional_features=(), internal_convert_user_code=True)) as fscope:\n",
            "        do_return = False\n",
            "        retval_ = ag__.UndefinedReturnValue()\n",
            "        with ag__.ld(tf).GradientTape() as tape:\n",
            "            loss_value = ag__.converted_call(ag__.ld(loss), (ag__.ld(model), ag__.ld(inputs), ag__.ld(targets), ag__.ld(wd)), None, fscope)\n",
            "        try:\n",
            "            do_return = True\n",
            "            retval_ = (ag__.ld(loss_value), ag__.converted_call(ag__.ld(tape).gradient, (ag__.ld(loss_value), ag__.ld(model).trainable_variables), None, fscope))\n",
            "        except:\n",
            "            do_return = False\n",
            "            raise\n",
            "        return fscope.ret(retval_, do_return)\n",
            "\n"
          ],
          "name": "stdout"
        }
      ]
    }
  ]
}